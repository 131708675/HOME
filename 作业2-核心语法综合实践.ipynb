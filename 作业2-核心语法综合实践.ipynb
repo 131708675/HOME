{
 "cells": [
  {
   "cell_type": "code",
   "execution_count": null,
   "metadata": {},
   "outputs": [],
   "source": [
    "import pandas as pd\n",
    "#读取Excel文件\n",
    "原始数据=R'000_《统计与数据分析》课程第一次作业收集_提交统计.xlsx'\n",
    "列名列表=['姓名','姓名','Github仓库地址'] # 替换为你要读取的列名列表\n",
    "#读取指定数据\n",
    "df=pd.read_excel(原始数据,sheet_name=工作表,usecols=列名列表)\n",
    "#将数据转化为字典\n",
    "学生信息=df.to_dict(orient='records')\n",
    "print(学生信息)"
   ]
  }
 ],
 "metadata": {
  "kernelspec": {
   "display_name": "Python 3",
   "language": "python",
   "name": "python3"
  },
  "language_info": {
   "codemirror_mode": {
    "name": "ipython",
    "version": 3
   },
   "file_extension": ".py",
   "mimetype": "text/x-python",
   "name": "python",
   "nbconvert_exporter": "python",
   "pygments_lexer": "ipython3",
   "version": "3.8.10"
  },
  "orig_nbformat": 4
 },
 "nbformat": 4,
 "nbformat_minor": 2
}
