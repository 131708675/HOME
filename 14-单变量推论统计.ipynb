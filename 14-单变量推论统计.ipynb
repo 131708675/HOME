{
 "cells": [
  {
   "cell_type": "code",
   "execution_count": null,
   "metadata": {},
   "outputs": [],
   "source": [
    "import pandas as pd\n",
    "from scipy import stats\n",
    "# 打开数据文件\n",
    "file_path = R\"data/movie_data_cleaned.csv\"\n",
    "df_movies = pd.read_csv(file_path)\n",
    "# 计算均值和标准误差\n",
    "mean = df_movies['average'].mean()\n",
    "std_error = stats.sem(df_movies['average'])\n",
    "# 设定置信水平\n",
    "confidence_level = 0.95\n",
    "# 设定自由度\n",
    "df = len(df_movies['average']) - 1\n",
    "# 计算置信区间\n",
    "confidence_interval = stats.t.interval(confidence_level, df, loc=mean, scale=std_error)\n",
    "# 输出结果\n",
    "print(F\"均值：{mean: .2f}\")\n",
    "print(F\"均值在置信水平{confidence_level}下的置信区间为：\", confidence_interval)"
   ]
  },
  {
   "cell_type": "code",
   "execution_count": 4,
   "metadata": {},
   "outputs": [],
   "source": [
    "#运行自定义函数,执行单个变量均值的区间估计推论统计"
   ]
  },
  {
   "cell_type": "code",
   "execution_count": null,
   "metadata": {},
   "outputs": [],
   "source": [
    "import pandas as ps\n",
    "import numpy as np\n",
    "from scipy import stats\n",
    "\n",
    "file_path = R'C:\\Users\\Lenovo\\Desktop\\HOME\\data\\movie_data_cleaned (1).csv'  \n",
    "data = pd.read_csv(file_path)\n",
    "\n",
    "# 指定置信水平和自由度（通常自由度为样本大小减去1）\n",
    "confidence_level = 0.95\n",
    "df_degrees_of_freedom = data.shape[0] - 1\n",
    "\n",
    "# 使用pandas的var方法计算样本方差\n",
    "sample_variance = data['close'].var()\n",
    "\n",
    "# 使用stats.t.interval函数计算置信区间\n",
    "confidence_interval = stats.t.interval(confidence_level, df_degrees_of_freedom, loc=sample_variance, scale=np.sqrt(sample_variance / data.shape[0]))\n",
    "\n",
    "# 打印总体方差的置信区间\n",
    "print(f\"变量的方差为：{sample_variance: .2f},{confidence_level * 100}% 置信区间：({confidence_interval[0]:.2f}, {confidence_interval[1]:.2f})\")"
   ]
  }
 ],
 "metadata": {
  "kernelspec": {
   "display_name": "Python 3",
   "language": "python",
   "name": "python3"
  },
  "language_info": {
   "codemirror_mode": {
    "name": "ipython",
    "version": 3
   },
   "file_extension": ".py",
   "mimetype": "text/x-python",
   "name": "python",
   "nbconvert_exporter": "python",
   "pygments_lexer": "ipython3",
   "version": "3.8.10"
  }
 },
 "nbformat": 4,
 "nbformat_minor": 2
}
