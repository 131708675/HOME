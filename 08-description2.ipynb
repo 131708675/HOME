{
 "cells": [
  {
   "cell_type": "code",
   "execution_count": 7,
   "metadata": {},
   "outputs": [],
   "source": [
    "import pandas as pd\n",
    "from pyreadstat import pyreadstat\n",
    "df, metadata = pyreadstat.read_sav(r'data\\identity.sav',\n",
    "apply_value_formats=True, formats_as_ordered_category=True)"
   ]
  },
  {
   "cell_type": "code",
   "execution_count": null,
   "metadata": {},
   "outputs": [],
   "source": []
  },
  {
   "cell_type": "code",
   "execution_count": 8,
   "metadata": {},
   "outputs": [],
   "source": [
    "result=df['会打多少分'].value_counts(sort=False)\n",
    "描述统计表=pd.DataFrame(result)\n",
    "描述统计表['比例']=描述统计表['count']/描述统计表['count'].sum()\n",
    "描述统计表['累计比例']=描述统计表['比例'].cumsum()"
   ]
  },
  {
   "cell_type": "code",
   "execution_count": 9,
   "metadata": {},
   "outputs": [
    {
     "ename": "SyntaxError",
     "evalue": "invalid character in identifier (444986506.py, line 1)",
     "output_type": "error",
     "traceback": [
      "\u001b[1;36m  Cell \u001b[1;32mIn[9], line 1\u001b[1;36m\u001b[0m\n\u001b[1;33m    def 有序类别变量描述统计函数（表名,\u001b[0m\n\u001b[1;37m                      ^\u001b[0m\n\u001b[1;31mSyntaxError\u001b[0m\u001b[1;31m:\u001b[0m invalid character in identifier\n"
     ]
    }
   ],
   "source": [
    "def 有序类别变量描述统计函数（表名,\n",
    "result=表名[变量名].value_ counts(sort=False)\n",
    "描述统计表= pd.DataFrame(result)\n",
    "描述统计表['比例'] = 描述统计表['count']/ 描述统计表['count'].sum()\n",
    "描述统计表['累计比例'] = 描述统计表['比例'] .cumsum ()\n",
    "return 描述统计表"
   ]
  },
  {
   "cell_type": "code",
   "execution_count": null,
   "metadata": {},
   "outputs": [],
   "source": [
    "有序变量描述统计函数(表名)"
   ]
  },
  {
   "cell_type": "code",
   "execution_count": null,
   "metadata": {},
   "outputs": [],
   "source": [
    "result=df['会打多少分'].value_counts(sort=False)\n",
    "df_result=pd.DataFrame(result)\n",
    "df_result['累计求和']=result.values.cumsum()"
   ]
  }
 ],
 "metadata": {
  "kernelspec": {
   "display_name": "Python 3",
   "language": "python",
   "name": "python3"
  },
  "language_info": {
   "codemirror_mode": {
    "name": "ipython",
    "version": 3
   },
   "file_extension": ".py",
   "mimetype": "text/x-python",
   "name": "python",
   "nbconvert_exporter": "python",
   "pygments_lexer": "ipython3",
   "version": "3.8.10"
  }
 },
 "nbformat": 4,
 "nbformat_minor": 2
}
